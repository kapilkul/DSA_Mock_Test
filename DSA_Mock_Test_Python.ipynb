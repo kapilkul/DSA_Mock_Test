{
 "cells": [
  {
   "cell_type": "markdown",
   "id": "e6c58fa4",
   "metadata": {},
   "source": [
    "# Problem 1"
   ]
  },
  {
   "cell_type": "code",
   "execution_count": null,
   "id": "f9155e17",
   "metadata": {},
   "outputs": [],
   "source": [
    "import math as m\n",
    "def sqrt_round(A):\n",
    "    x=m.sqrt(A)\n",
    "    y=round(x,0)\n",
    "    return y"
   ]
  },
  {
   "cell_type": "code",
   "execution_count": 15,
   "id": "01ca6f55",
   "metadata": {},
   "outputs": [
    {
     "data": {
      "text/plain": [
       "3.0"
      ]
     },
     "execution_count": 15,
     "metadata": {},
     "output_type": "execute_result"
    }
   ],
   "source": [
    "sqrt_round(8)"
   ]
  },
  {
   "cell_type": "markdown",
   "id": "a29a22eb",
   "metadata": {},
   "source": [
    "# Problem 2"
   ]
  },
  {
   "cell_type": "code",
   "execution_count": 42,
   "id": "8b9bdf9e",
   "metadata": {},
   "outputs": [],
   "source": [
    "def add_arrays(arr1, arr2):\n",
    "    n, m = len(arr1), len(arr2)\n",
    "    result = []\n",
    "    carry = 0\n",
    "    i, j = n-1, m-1\n",
    "     \n",
    "    while i >= 0 or j >= 0 or carry > 0:\n",
    "        sum = (arr1[i] if i >= 0 else 0) + (arr2[j] if j >= 0 else 0) + carry\n",
    "        carry = sum // 10\n",
    "        digit = sum % 10\n",
    "        result.insert(0, digit)\n",
    "        i -= 1\n",
    "        j -= 1\n",
    "     \n",
    "    return result[::-1]\n",
    "\n",
    "\n",
    "def rev_array(arr1,arr2):\n",
    "    arr1_new = arr1[::-1]\n",
    "    arr2_new = arr2[::-1]\n",
    "    return add_arrays(arr1_new,arr2_new)"
   ]
  },
  {
   "cell_type": "code",
   "execution_count": 43,
   "id": "5a0a7572",
   "metadata": {},
   "outputs": [
    {
     "name": "stdout",
     "output_type": "stream",
     "text": [
      "[7, 0, 8]\n"
     ]
    }
   ],
   "source": [
    "\n",
    "arr1 = [2,4,3]\n",
    "arr2 = [5,6,4]\n",
    "result = rev_array(arr1, arr2)\n",
    "print(result)"
   ]
  },
  {
   "cell_type": "code",
   "execution_count": 44,
   "id": "d0545d63",
   "metadata": {},
   "outputs": [
    {
     "name": "stdout",
     "output_type": "stream",
     "text": [
      "[0]\n"
     ]
    }
   ],
   "source": [
    "arr1 = [0]\n",
    "arr2 = [0]\n",
    "result = rev_array(arr1, arr2)\n",
    "print(result)"
   ]
  },
  {
   "cell_type": "code",
   "execution_count": 45,
   "id": "0df11096",
   "metadata": {},
   "outputs": [
    {
     "name": "stdout",
     "output_type": "stream",
     "text": [
      "[8, 9, 9, 9, 0, 0, 0, 1]\n"
     ]
    }
   ],
   "source": [
    "arr1 = [9,9,9,9,9,9,9]\n",
    "arr2 = [9,9,9,9]\n",
    "result = rev_array(arr1, arr2)\n",
    "print(result)"
   ]
  },
  {
   "cell_type": "code",
   "execution_count": null,
   "id": "37dc82a5",
   "metadata": {},
   "outputs": [],
   "source": []
  }
 ],
 "metadata": {
  "kernelspec": {
   "display_name": "Python 3 (ipykernel)",
   "language": "python",
   "name": "python3"
  },
  "language_info": {
   "codemirror_mode": {
    "name": "ipython",
    "version": 3
   },
   "file_extension": ".py",
   "mimetype": "text/x-python",
   "name": "python",
   "nbconvert_exporter": "python",
   "pygments_lexer": "ipython3",
   "version": "3.9.13"
  }
 },
 "nbformat": 4,
 "nbformat_minor": 5
}
